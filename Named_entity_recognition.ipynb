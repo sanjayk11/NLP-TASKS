{
  "nbformat": 4,
  "nbformat_minor": 0,
  "metadata": {
    "colab": {
      "name": "Named entity recognition.ipynb",
      "provenance": [],
      "collapsed_sections": []
    },
    "kernelspec": {
      "name": "python3",
      "display_name": "Python 3"
    }
  },
  "cells": [
    {
      "cell_type": "code",
      "metadata": {
        "id": "eHo3yyX5mN0b"
      },
      "source": [
        "import spacy"
      ],
      "execution_count": 1,
      "outputs": []
    },
    {
      "cell_type": "code",
      "metadata": {
        "id": "D18NyNM_mVtG"
      },
      "source": [
        "m = spacy.load('en_core_web_sm')"
      ],
      "execution_count": 2,
      "outputs": []
    },
    {
      "cell_type": "code",
      "metadata": {
        "id": "NfuK1AQemfNn"
      },
      "source": [
        "example1=\"Sanjay is herse staying in Madurai a small city in TamilNadu trying his hands on session in named entity recognitiom\""
      ],
      "execution_count": 3,
      "outputs": []
    },
    {
      "cell_type": "code",
      "metadata": {
        "id": "3DRT5WVcm656",
        "outputId": "3ee3b4e2-feea-4ac0-8998-728dbbd56998",
        "colab": {
          "base_uri": "https://localhost:8080/",
          "height": 70
        }
      },
      "source": [
        "doc=m(example1)\n",
        "for ent in doc.ents:\n",
        "  print(ent.text,\"-\",ent.label_)"
      ],
      "execution_count": 4,
      "outputs": [
        {
          "output_type": "stream",
          "text": [
            "Sanjay - ORG\n",
            "Madurai - PRODUCT\n",
            "TamilNadu - LOC\n"
          ],
          "name": "stdout"
        }
      ]
    },
    {
      "cell_type": "code",
      "metadata": {
        "id": "cSCdPaxXnPXB"
      },
      "source": [
        "example2=\"The United States of America is a charter member of the United Nations\"\\\n",
        "+\"and one of five permanent members of the UN Security Council\"\\\n",
        "+\"The United States is the host of the headquarters of the United Nations, which includes the usual meeting place of the General Assembly in New York City, in the north east coast of the country \""
      ],
      "execution_count": 6,
      "outputs": []
    },
    {
      "cell_type": "code",
      "metadata": {
        "id": "5sV7SJtqn6Df",
        "outputId": "bf22dc26-9c14-41c9-fe1f-793797c516ca",
        "colab": {
          "base_uri": "https://localhost:8080/",
          "height": 175
        }
      },
      "source": [
        "doc=m(example2)\n",
        "for ent in doc.ents:\n",
        "  print(ent.text,\"-\",ent.label_)"
      ],
      "execution_count": 7,
      "outputs": [
        {
          "output_type": "stream",
          "text": [
            "The United States of America - GPE\n",
            "United Nationsand - GPE\n",
            "one - CARDINAL\n",
            "five - CARDINAL\n",
            "the UN Security CouncilThe United States - ORG\n",
            "the United Nations - ORG\n",
            "the General Assembly - ORG\n",
            "New York City - GPE\n",
            "the north east coast - LOC\n"
          ],
          "name": "stdout"
        }
      ]
    },
    {
      "cell_type": "code",
      "metadata": {
        "id": "OdidqoeNoIXa"
      },
      "source": [
        ""
      ],
      "execution_count": null,
      "outputs": []
    }
  ]
}